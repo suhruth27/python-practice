{
  "nbformat": 4,
  "nbformat_minor": 0,
  "metadata": {
    "colab": {
      "name": "list.ipynb",
      "provenance": [],
      "authorship_tag": "ABX9TyO1lUJTzWLaOu2g2eiiuF5h",
      "include_colab_link": true
    },
    "kernelspec": {
      "name": "python3",
      "display_name": "Python 3"
    },
    "language_info": {
      "name": "python"
    }
  },
  "cells": [
    {
      "cell_type": "markdown",
      "metadata": {
        "id": "view-in-github",
        "colab_type": "text"
      },
      "source": [
        "<a href=\"https://colab.research.google.com/github/suhruth27/python-practice/blob/main/list.ipynb\" target=\"_parent\"><img src=\"https://colab.research.google.com/assets/colab-badge.svg\" alt=\"Open In Colab\"/></a>"
      ]
    },
    {
      "cell_type": "code",
      "execution_count": 9,
      "metadata": {
        "colab": {
          "base_uri": "https://localhost:8080/"
        },
        "id": "GyaATJtW4a4G",
        "outputId": "ac1752fc-10ba-49aa-80aa-01b7ac513d60"
      },
      "outputs": [
        {
          "output_type": "stream",
          "name": "stdout",
          "text": [
            "apple\n",
            "['apple', 'mango']\n",
            "orange\n",
            "['apple', 'mango', 'banana', 'kiwi']\n",
            "['kiwi', 'orange']\n",
            "['apple']\n"
          ]
        }
      ],
      "source": [
        "#list\n",
        "fruit=['apple', 'mango', 'banana', 'kiwi', 'orange']\n",
        "print(fruit[0])\n",
        "print(fruit[0:2])\n",
        "print(fruit[-1])\n",
        "print(fruit[:-1])\n",
        "print(fruit[3:])\n",
        "print(fruit[:-4])"
      ]
    }
  ]
}