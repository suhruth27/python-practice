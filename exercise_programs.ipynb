{
  "nbformat": 4,
  "nbformat_minor": 0,
  "metadata": {
    "colab": {
      "name": "exercise programs.ipynb",
      "provenance": [],
      "collapsed_sections": [],
      "authorship_tag": "ABX9TyMYCaNB3k/EhVxIbUSqtKTx",
      "include_colab_link": true
    },
    "kernelspec": {
      "name": "python3",
      "display_name": "Python 3"
    },
    "language_info": {
      "name": "python"
    }
  },
  "cells": [
    {
      "cell_type": "markdown",
      "metadata": {
        "id": "view-in-github",
        "colab_type": "text"
      },
      "source": [
        "<a href=\"https://colab.research.google.com/github/suhruth27/python-practice/blob/main/exercise_programs.ipynb\" target=\"_parent\"><img src=\"https://colab.research.google.com/assets/colab-badge.svg\" alt=\"Open In Colab\"/></a>"
      ]
    },
    {
      "cell_type": "code",
      "execution_count": null,
      "metadata": {
        "id": "1GG2kdSIa7Te"
      },
      "outputs": [],
      "source": [
        "#wap to print prime nums in a given range using function\n",
        "#wap to read a month in integer and display days for that month\n",
        "#wap to print even length words in a string -----sample input:-\"i am python\" output:- i, am, python-------\n",
        "# a)wap to capitalize the first and last letter of the string ------- b)wap read a string from user display first character of each word with capital letter ---input:- iam suhruth output:- I Am Suhruth---\n",
        "#wap to convert the list of multiple integers into single integer ---input:- 11,33,44 output:- 113344----\n",
        "\n",
        "#wap to find power of number with recursion and without recursion ----input: n=2 p=3, output: 8-----\n",
        "#wap to sort tuples by total digits--- input: [(3,4,6,723),(1,2)] output: [(1,2), (3,4,6,723)]----\n",
        "#5 subjects\n",
        "#wap that print 1 if all the three given numbers are in ascending order \n",
        "#check given num is perfect or not\n",
        "#check given string is palindrome or not\n",
        "\n",
        "#sum of even digits in given number ------input: 1234 output: 6----\n",
        "#cal sum of squares of digits of number\n",
        "#given a string is s='abcdefcba' how many times the ith capital, last words enni sarlu match aithe anni 1s add chey.... 3 times aithe 3 output\n",
        "#givn an integer n return a list containing 1223334444 and finally return n repeated n times\n",
        "#print num of vowels and consonants in a given string \n",
        "#given two integers a nd b. if a less than b then print all the numc b/w a nd b in ascending order. if a is greater than or equal to b then print in dscending order\n",
        "#program to print biggest value among 3 nums\n",
        "#fibonacci\n",
        "#wap to count num of strings where string length i 2 or more and find the first and last characters are same\n",
        "#there is a walking track of 3kms. round trip of walking track means 3+3=6. take input from user as num of days, num of roundtrips he completes per day. cal the total distance he covers in meters. if the dist < 40,000 meters. give a msg as \"need to walk more\". if dist> 40,000, give a msg \"good job\"\n",
        "#give a list students names in list and a character display the students whose first letter is given character\n",
        "#given list of city names whose length > given length"
      ]
    },
    {
      "cell_type": "code",
      "source": [
        "def prime(a,b):\n",
        "    a=int(input(\"Enter lowest number:\"))\n",
        "    b=int(input(\"Enter largest number:\"))\n",
        "    for x in range(a,b + 1):\n",
        "        if x>1:\n",
        "            for i in range(2,x):\n",
        "                if x%i==0:\n",
        "                    break\n",
        "            else:\n",
        "                print(x)\n",
        "prime(a,b)"
      ],
      "metadata": {
        "colab": {
          "base_uri": "https://localhost:8080/"
        },
        "id": "mZGnVxPVcrgT",
        "outputId": "e48bbe7f-d1f7-497e-ac0d-614e3e31336c"
      },
      "execution_count": null,
      "outputs": [
        {
          "output_type": "stream",
          "name": "stdout",
          "text": [
            "Enter lowest number:2\n",
            "Enter largest number:5\n",
            "2\n",
            "3\n",
            "5\n"
          ]
        }
      ]
    },
    {
      "cell_type": "code",
      "source": [
        "a=\"i am python\"\n",
        "b=a.split()\n",
        "for c in b:\n",
        "    if len(c)%2==0:\n",
        "        print(c)"
      ],
      "metadata": {
        "colab": {
          "base_uri": "https://localhost:8080/"
        },
        "id": "shGMicaalgzm",
        "outputId": "30f62b76-c6b3-43b5-deb3-ea3ca570107f"
      },
      "execution_count": null,
      "outputs": [
        {
          "output_type": "stream",
          "name": "stdout",
          "text": [
            "am\n",
            "python\n"
          ]
        }
      ]
    },
    {
      "cell_type": "code",
      "source": [
        "a=int(input())\n",
        "if a<=12 and a%2==0:\n",
        "    print(\"it has 31 days\")\n",
        "elif(a<=12 and a%2!=0):\n",
        "    print(\"it has 30 days\")\n",
        "else:\n",
        "    print(\"enter number between 1 to 12\")"
      ],
      "metadata": {
        "colab": {
          "base_uri": "https://localhost:8080/"
        },
        "id": "gZNIhJWFnCvn",
        "outputId": "d4e918ce-0578-4fd9-d42d-431e8bf47305"
      },
      "execution_count": null,
      "outputs": [
        {
          "output_type": "stream",
          "name": "stdout",
          "text": [
            "2\n",
            "it has 31 days\n"
          ]
        }
      ]
    },
    {
      "cell_type": "code",
      "source": [
        "a=str(input())\n",
        "print(a[0].upper()+a[1:len(a)-1]+a[len(a)-1].upper())\n"
      ],
      "metadata": {
        "colab": {
          "base_uri": "https://localhost:8080/"
        },
        "id": "jq9OaOyeoMzg",
        "outputId": "9f26dd97-bc0a-450c-cb80-ea9be9226056"
      },
      "execution_count": null,
      "outputs": [
        {
          "output_type": "stream",
          "name": "stdout",
          "text": [
            "qwerty\n",
            "QwertY\n"
          ]
        }
      ]
    },
    {
      "cell_type": "code",
      "source": [
        "a=[11,33,44]\n",
        "integer=''\n",
        "for i in a:\n",
        "    integer += str(i)\n",
        "print(int(integer))"
      ],
      "metadata": {
        "colab": {
          "base_uri": "https://localhost:8080/"
        },
        "id": "nbf3g2b5UcR0",
        "outputId": "b5e97cb2-d49b-4663-a3af-3b3ea34bb2af"
      },
      "execution_count": null,
      "outputs": [
        {
          "output_type": "stream",
          "name": "stdout",
          "text": [
            "113344\n"
          ]
        }
      ]
    },
    {
      "cell_type": "code",
      "source": [
        "#using function\n",
        "import math\n",
        "def power(a,b):\n",
        "    print(int(math.pow(a, b)))\n",
        "power(a=int(input()), b=int(input()))"
      ],
      "metadata": {
        "colab": {
          "base_uri": "https://localhost:8080/"
        },
        "id": "rKLi7hkcWiZd",
        "outputId": "3faea39a-6032-42a8-f4f1-5774952b0663"
      },
      "execution_count": null,
      "outputs": [
        {
          "output_type": "stream",
          "name": "stdout",
          "text": [
            "2\n",
            "3\n",
            "8\n"
          ]
        }
      ]
    },
    {
      "cell_type": "code",
      "source": [
        "#using recursion\n",
        "def power(a,b):\n",
        "    if b == 0:  \n",
        "        return 1\n",
        "   \n",
        "    return (a*power(a, b-1)) \n",
        "power(a=int(input()), b=int(input()))"
      ],
      "metadata": {
        "colab": {
          "base_uri": "https://localhost:8080/"
        },
        "id": "HUHuSUQkZ58k",
        "outputId": "cf362f76-4e25-4c44-96bc-02e77c95b029"
      },
      "execution_count": null,
      "outputs": [
        {
          "name": "stdout",
          "output_type": "stream",
          "text": [
            "2\n",
            "3\n"
          ]
        },
        {
          "output_type": "execute_result",
          "data": {
            "text/plain": [
              "8"
            ]
          },
          "metadata": {},
          "execution_count": 13
        }
      ]
    },
    {
      "cell_type": "code",
      "source": [
        "#sort tupples bt total digits\n",
        "l=[(3,4,6,729),(1,2),(134,234,34)]\n",
        "l.sort()\n",
        "print(l)\n"
      ],
      "metadata": {
        "colab": {
          "base_uri": "https://localhost:8080/"
        },
        "id": "3rHoJcV8pOfO",
        "outputId": "1de4b901-2704-4f82-9689-db7eb9ca5523"
      },
      "execution_count": 1,
      "outputs": [
        {
          "output_type": "stream",
          "name": "stdout",
          "text": [
            "[(1, 2), (3, 4, 6, 729), (134, 234, 34)]\n"
          ]
        }
      ]
    },
    {
      "cell_type": "code",
      "source": [
        "#5 subject marks and display grade\n",
        "a=list(map(int, input(\"Enter 5 subject marks \").rstrip().split()))\n",
        "s=sum(a)\n",
        "avg= s/5\n",
        "if avg>=90 :\n",
        "    print(\"O\")\n",
        "elif avg>=80:\n",
        "    print(\"A+\")\n",
        "elif avg >=70:\n",
        "    print(\"A\")\n",
        "elif avg >=60 :\n",
        "    print(\"B+\")\n",
        "elif avg >=50 :\n",
        "    print(\"B\")\n",
        "elif avg >=40 :\n",
        "    print(\"Pass\")\n",
        "elif avg <40 :\n",
        "    print(\"Fail\")"
      ],
      "metadata": {
        "id": "BJH-7pVwphpc"
      },
      "execution_count": null,
      "outputs": []
    },
    {
      "cell_type": "code",
      "source": [
        "a=list(map(int, input(\"Enter number \").rstrip().split()))\n",
        "b=[]\n",
        "b.extend(a)\n",
        "a.sort()\n",
        "if a==b :\n",
        "    print(1)\n",
        "else :\n",
        "    print(0)"
      ],
      "metadata": {
        "id": "OehqHG6vqfhi"
      },
      "execution_count": null,
      "outputs": []
    },
    {
      "cell_type": "code",
      "source": [
        "a=input(\"enter a word \")\n",
        "b=a[::-1]\n",
        "if a==b:\n",
        "    print(\"it's a plaindrome\")\n",
        "else :\n",
        "    print(\"it's not a palindrome\")"
      ],
      "metadata": {
        "colab": {
          "base_uri": "https://localhost:8080/"
        },
        "id": "C29WhLL6qqMY",
        "outputId": "6d3fed82-2854-4edd-8161-6ddf86bad894"
      },
      "execution_count": 5,
      "outputs": [
        {
          "output_type": "stream",
          "name": "stdout",
          "text": [
            "enter a word nin\n",
            "it's a plaindrome\n"
          ]
        }
      ]
    },
    {
      "cell_type": "code",
      "source": [
        "a=int(input(\"Enter a number \"))\n",
        "s=0\n",
        "for i in range (a):\n",
        "    r=a%10\n",
        "    if r%2==0 :\n",
        "        s+=r\n",
        "    a=a//10\n",
        "print(s)"
      ],
      "metadata": {
        "colab": {
          "base_uri": "https://localhost:8080/"
        },
        "id": "o2Mlr21drBzL",
        "outputId": "bcb8925d-5b61-478e-957e-2b79609cbcf4"
      },
      "execution_count": 4,
      "outputs": [
        {
          "output_type": "stream",
          "name": "stdout",
          "text": [
            "Enter a number 1234\n",
            "6\n"
          ]
        }
      ]
    },
    {
      "cell_type": "code",
      "source": [
        "#calculate sum of squares of digits of number given by user input\n",
        "a=int(input(\"Enter a number \"))\n",
        "s=0\n",
        "for i in range (a):\n",
        "    r=a%10\n",
        "    r=r*r\n",
        "    s+=r\n",
        "    a=a//10\n",
        "print(s)"
      ],
      "metadata": {
        "id": "OooHIWv7rhFk"
      },
      "execution_count": null,
      "outputs": []
    },
    {
      "cell_type": "code",
      "source": [
        "#Given a string count front back matches\n",
        "a=input(\"Enter a word \")\n",
        "s=0\n",
        "l=len(a)//2\n",
        "for i in range(l):\n",
        "    x=a[i]\n",
        "    y=a[-(i+1)]\n",
        "    if x==y :\n",
        "        s+=1\n",
        "print(s)"
      ],
      "metadata": {
        "colab": {
          "base_uri": "https://localhost:8080/"
        },
        "id": "k7HOfezUrnAV",
        "outputId": "59caf23f-44da-4df5-cbba-8e228c0bf5ae"
      },
      "execution_count": 7,
      "outputs": [
        {
          "output_type": "stream",
          "name": "stdout",
          "text": [
            "Enter a word acbdecba\n",
            "1\n"
          ]
        }
      ]
    },
    {
      "cell_type": "code",
      "source": [
        "#given an integer print like (inp:4 out: 1 2 2 3 3 3 4 4 4 4)\n",
        "n=int(input(\"enter your number :\"))\n",
        "a=[]\n",
        "for i in range (n+1):\n",
        "    for j in range (i):\n",
        "        a.append(i)\n",
        "print(a)"
      ],
      "metadata": {
        "colab": {
          "base_uri": "https://localhost:8080/"
        },
        "id": "De37dFrzr5LG",
        "outputId": "41846c7e-c13c-44f0-e072-ca5087663120"
      },
      "execution_count": 8,
      "outputs": [
        {
          "output_type": "stream",
          "name": "stdout",
          "text": [
            "enter your number :4\n",
            "[1, 2, 2, 3, 3, 3, 4, 4, 4, 4]\n"
          ]
        }
      ]
    },
    {
      "cell_type": "code",
      "source": [
        "#print number of vowels and consonants\n",
        "a=input(\"Enter a word \")\n",
        "a=a.lower()\n",
        "c,v=0,0\n",
        "if a.isalpha() :\n",
        "    for i in range (len(a)):\n",
        "        if a[i]==\"a\" or a[i]==\"e\" or a[i]==\"i\" or a[i]==\"o\" or a[i]==\"u\" :\n",
        "            v+=1\n",
        "        else :\n",
        "            c+=1\n",
        "    print(f\"vowels are {v} and consonants are {c}\")\n",
        "else :\n",
        "    print(\"Not possible\")"
      ],
      "metadata": {
        "id": "y2m4kfb5sGvZ"
      },
      "execution_count": null,
      "outputs": []
    },
    {
      "cell_type": "code",
      "source": [
        "#given a,b if a < b , print in ascending ; if a > b print in descending values b/w a & b\n",
        "a= int(input(\"enter a :\"))\n",
        "b= int(input(\"enter b :\"))\n",
        "if a < b :\n",
        "    for i in range (a,b+1):\n",
        "        print(i,end = \" \")\n",
        "if a > b :\n",
        "    while a>=b :\n",
        "        print(a, end = \" \")\n",
        "        a-=1\n"
      ],
      "metadata": {
        "id": "J7D_LPRIstnG"
      },
      "execution_count": null,
      "outputs": []
    },
    {
      "cell_type": "code",
      "source": [
        "#given list of string print if 1st and last letters of a string are same or not\n",
        "a=input(\"Enter a word \")\n",
        "if a[0]==a[-1]:\n",
        "    print(\"Yes\")\n",
        "else :\n",
        "    print(\"No\")"
      ],
      "metadata": {
        "id": "D3UW_UyFs-EY"
      },
      "execution_count": null,
      "outputs": []
    },
    {
      "cell_type": "code",
      "source": [
        "a=int(input(\"Enter days \"))\n",
        "b=int(input(\"Enter round trips/day \"))\n",
        "c=a*b*6000\n",
        "if c>= 40000 :\n",
        "    print(\"Good job\")\n",
        "else :\n",
        "    print(\"Need to walk more\")"
      ],
      "metadata": {
        "id": "4IRGjeJntDi5"
      },
      "execution_count": null,
      "outputs": []
    },
    {
      "cell_type": "code",
      "source": [
        "n=input(\"Enter letter to be verified \")\n",
        "n=n.lower()\n",
        "r=[]\n",
        "s=0\n",
        "for i in range(int(input(\"Enter no. of students \"))):\n",
        "    a=input(f\"Enter name of student no. {i+1} \")\n",
        "    a=a.lower()\n",
        "    p=a[0]\n",
        "    if n==p :\n",
        "        s+=1\n",
        "        r.append(a)\n",
        "print(f\"Total {s} students matched\\nThey are {r}\")\n"
      ],
      "metadata": {
        "colab": {
          "base_uri": "https://localhost:8080/"
        },
        "id": "2mwcnGrUtKOO",
        "outputId": "705ad1e5-5adc-4178-fe01-4934e55a677f"
      },
      "execution_count": 9,
      "outputs": [
        {
          "output_type": "stream",
          "name": "stdout",
          "text": [
            "Enter letter to be verified s\n",
            "Enter no. of students 3\n",
            "Enter name of student no. 1 suh\n",
            "Enter name of student no. 2 sar\n",
            "Enter name of student no. 3 tim\n",
            "Total 2 students matched\n",
            "They are ['suh', 'sar']\n"
          ]
        }
      ]
    },
    {
      "cell_type": "code",
      "source": [
        "l=int(input(\"Enter length to be exceeded \"))\n",
        "u=[]\n",
        "for i in range(int(input(\"Enter no. of cities \"))):\n",
        "    c=input(f\"Enter name of city no.{i+1} \")\n",
        "    a=len(c)\n",
        "    if a>l:\n",
        "        u.append(c)\n",
        "print(f\"required cities are {u}\")"
      ],
      "metadata": {
        "id": "BeBvNeFGthHx"
      },
      "execution_count": null,
      "outputs": []
    }
  ]
}