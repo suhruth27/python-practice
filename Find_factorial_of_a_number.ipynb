{
  "nbformat": 4,
  "nbformat_minor": 0,
  "metadata": {
    "colab": {
      "name": "Find factorial of a number.ipynb",
      "provenance": [],
      "collapsed_sections": [],
      "authorship_tag": "ABX9TyPIBVDBzko4xZp8SNCaPMKo",
      "include_colab_link": true
    },
    "kernelspec": {
      "name": "python3",
      "display_name": "Python 3"
    },
    "language_info": {
      "name": "python"
    }
  },
  "cells": [
    {
      "cell_type": "markdown",
      "metadata": {
        "id": "view-in-github",
        "colab_type": "text"
      },
      "source": [
        "<a href=\"https://colab.research.google.com/github/suhruth27/python-practice/blob/main/Find_factorial_of_a_number.ipynb\" target=\"_parent\"><img src=\"https://colab.research.google.com/assets/colab-badge.svg\" alt=\"Open In Colab\"/></a>"
      ]
    },
    {
      "cell_type": "code",
      "execution_count": null,
      "metadata": {
        "colab": {
          "base_uri": "https://localhost:8080/"
        },
        "id": "P51ozM3AXamv",
        "outputId": "4cda3f03-bb13-4da2-f3f5-d259f7f38c9a"
      },
      "outputs": [
        {
          "output_type": "stream",
          "name": "stdout",
          "text": [
            "4\n",
            "The factorial of 4 is 24\n"
          ]
        }
      ],
      "source": [
        "#Find factorial of a number\n",
        "a=int(input())\n",
        "factorial=1\n",
        "if a>0:    \n",
        "   for i in range(1,a + 1):    \n",
        "       factorial = factorial*i    \n",
        "   print(\"The factorial of\",a,\"is\",factorial)\n",
        "elif a==0:\n",
        "   print(\"The factorial is 1\")\n",
        "else:\n",
        "   print(\"does not exist\")"
      ]
    }
  ]
}