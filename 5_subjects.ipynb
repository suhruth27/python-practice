{
  "nbformat": 4,
  "nbformat_minor": 0,
  "metadata": {
    "colab": {
      "name": "5 subjects.ipynb",
      "provenance": [],
      "authorship_tag": "ABX9TyMg9QDX85oGPvrmpg8katZk",
      "include_colab_link": true
    },
    "kernelspec": {
      "name": "python3",
      "display_name": "Python 3"
    },
    "language_info": {
      "name": "python"
    }
  },
  "cells": [
    {
      "cell_type": "markdown",
      "metadata": {
        "id": "view-in-github",
        "colab_type": "text"
      },
      "source": [
        "<a href=\"https://colab.research.google.com/github/suhruth27/python-practice/blob/main/5_subjects.ipynb\" target=\"_parent\"><img src=\"https://colab.research.google.com/assets/colab-badge.svg\" alt=\"Open In Colab\"/></a>"
      ]
    },
    {
      "cell_type": "code",
      "execution_count": 3,
      "metadata": {
        "colab": {
          "base_uri": "https://localhost:8080/"
        },
        "id": "9IDtJrP6WOjR",
        "outputId": "12667e22-5732-46b5-cf74-056306e52c7e"
      },
      "outputs": [
        {
          "output_type": "stream",
          "name": "stdout",
          "text": [
            "enter sub1 marks100\n",
            "enter sub2 marks100\n",
            "enter sub3 marks100\n",
            "enter sub4 marks100\n",
            "enter sub5 marks100\n",
            "total is 500\n",
            "average is 100.0\n",
            "percentage is 100.0\n"
          ]
        }
      ],
      "source": [
        "#5 subjects\n",
        "sub1=int(input(\"enter sub1 marks\"))\n",
        "sub2=int(input(\"enter sub2 marks\"))\n",
        "sub3=int(input(\"enter sub3 marks\"))\n",
        "sub4=int(input(\"enter sub4 marks\"))\n",
        "sub5=int(input(\"enter sub5 marks\"))\n",
        "sum = sub1+sub2+sub3+sub4+sub5\n",
        "print(\"total is\",sum)\n",
        "average = sum/5\n",
        "print(\"average is\", average)\n",
        "percentage = (sum/500)*100\n",
        "print(\"percentage is\", percentage)11"
      ]
    }
  ]
}