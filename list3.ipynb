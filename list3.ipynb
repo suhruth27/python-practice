{
  "nbformat": 4,
  "nbformat_minor": 0,
  "metadata": {
    "colab": {
      "name": "list.ipynb",
      "provenance": [],
      "authorship_tag": "ABX9TyOE2fb9pgbZwnHKHnQYqAVD",
      "include_colab_link": true
    },
    "kernelspec": {
      "name": "python3",
      "display_name": "Python 3"
    },
    "language_info": {
      "name": "python"
    }
  },
  "cells": [
    {
      "cell_type": "markdown",
      "metadata": {
        "id": "view-in-github",
        "colab_type": "text"
      },
      "source": [
        "<a href=\"https://colab.research.google.com/github/suhruth27/python-practice/blob/main/list3.ipynb\" target=\"_parent\"><img src=\"https://colab.research.google.com/assets/colab-badge.svg\" alt=\"Open In Colab\"/></a>"
      ]
    },
    {
      "cell_type": "code",
      "execution_count": 11,
      "metadata": {
        "colab": {
          "base_uri": "https://localhost:8080/"
        },
        "id": "GyaATJtW4a4G",
        "outputId": "198f993d-0bba-4bc1-acf6-1eb5f69434d4"
      },
      "outputs": [
        {
          "output_type": "stream",
          "name": "stdout",
          "text": [
            "apple\n",
            "['apple', 'mango']\n",
            "orange\n",
            "['apple', 'mango', 'banana', 'kiwi']\n",
            "['kiwi', 'orange']\n",
            "['apple']\n",
            "i\n"
          ]
        }
      ],
      "source": [
        "#list\n",
        "fruit=['apple', 'mango', 'banana', 'kiwi', 'orange']\n",
        "print(fruit[0])\n",
        "print(fruit[0:2])\n",
        "print(fruit[-1])\n",
        "print(fruit[:-1])\n",
        "print(fruit[3:])\n",
        "print(fruit[:-4])\n",
        "print(fruit[3][1])"
      ]
    }
  ]
}