{
  "nbformat": 4,
  "nbformat_minor": 0,
  "metadata": {
    "colab": {
      "name": "module2.ipynb",
      "provenance": [],
      "collapsed_sections": [],
      "authorship_tag": "ABX9TyPCdwkLBI9pZKQUksZ9VL3k",
      "include_colab_link": true
    },
    "kernelspec": {
      "name": "python3",
      "display_name": "Python 3"
    },
    "language_info": {
      "name": "python"
    }
  },
  "cells": [
    {
      "cell_type": "markdown",
      "metadata": {
        "id": "view-in-github",
        "colab_type": "text"
      },
      "source": [
        "<a href=\"https://colab.research.google.com/github/suhruth27/python-practice/blob/main/module2.ipynb\" target=\"_parent\"><img src=\"https://colab.research.google.com/assets/colab-badge.svg\" alt=\"Open In Colab\"/></a>"
      ]
    },
    {
      "cell_type": "code",
      "execution_count": null,
      "metadata": {
        "colab": {
          "base_uri": "https://localhost:8080/"
        },
        "id": "M8yQZyRZGWNF",
        "outputId": "5218c19c-596e-4e8d-abf9-ae5f575f4d38"
      },
      "outputs": [
        {
          "output_type": "stream",
          "name": "stdout",
          "text": [
            "Enter first number:6\n",
            "Enter second number:18\n",
            "GCD is: \n",
            "6\n"
          ]
        }
      ],
      "source": [
        "#Recursive function to compute GCD of 2 numbers\n",
        "def gcd(a,b):\n",
        "    if(b==0):\n",
        "        return a\n",
        "    else:\n",
        "        return gcd(b,a%b)\n",
        "a=int(input(\"Enter first number:\"))\n",
        "b=int(input(\"Enter second number:\"))\n",
        "GCD=gcd(a,b)\n",
        "print(\"GCD is: \")\n",
        "print(GCD)"
      ]
    },
    {
      "cell_type": "code",
      "source": [
        "#Recursive function to find product of two numbers\n",
        "def product(a,b):\n",
        "    if(a<b):\n",
        "        return product(b,a)\n",
        "    elif(b!=0):\n",
        "        return(a+product(a,b-1))\n",
        "    else:\n",
        "        return 0\n",
        "a=int(input(\"Enter first number: \"))\n",
        "b=int(input(\"Enter second number: \"))\n",
        "print(\"Product is: \",product(a,b))"
      ],
      "metadata": {
        "colab": {
          "base_uri": "https://localhost:8080/"
        },
        "id": "Sst5GOOCUPoB",
        "outputId": "2b132ae3-765d-40ee-c433-e0479737fbea"
      },
      "execution_count": null,
      "outputs": [
        {
          "output_type": "stream",
          "name": "stdout",
          "text": [
            "Enter first number: 2\n",
            "Enter second number: 3\n",
            "Product is:  6\n"
          ]
        }
      ]
    },
    {
      "cell_type": "code",
      "source": [
        "#Recursive function to generate Fibonacci series\n",
        "def recur_fibo(n):  \n",
        "   if n <= 1:  \n",
        "       return n  \n",
        "   else:  \n",
        "       return(recur_fibo(n-1) + recur_fibo(n-2))  \n",
        "\n",
        "nterms = int(input(\"number of terms: \"))  \n",
        "\n",
        "if nterms <= 0:  \n",
        "   print(\"Plese enter a positive integer\")  \n",
        "else:  \n",
        "   print(\"Fibonacci sequence:\")  \n",
        "   for i in range(nterms):  \n",
        "       print(recur_fibo(i))  "
      ],
      "metadata": {
        "colab": {
          "base_uri": "https://localhost:8080/"
        },
        "id": "k9tL-oKIP9bp",
        "outputId": "3330341d-5e42-4fb7-8b2f-c107542cc5cc"
      },
      "execution_count": null,
      "outputs": [
        {
          "output_type": "stream",
          "name": "stdout",
          "text": [
            "number of terms: 3\n",
            "Fibonacci sequence:\n",
            "0\n",
            "1\n",
            "1\n"
          ]
        }
      ]
    },
    {
      "cell_type": "code",
      "source": [
        "#Program to print a specified list after removing the 0th, 4th and 5th elements.\n",
        "#Sample List : ['Red', 'Green', 'White', 'Black', 'Pink', 'Yellow'] \n",
        "#Expected Output : ['Green', 'White', 'Black']\n",
        "l=['Red', 'Green', 'White', 'Black', 'Pink', 'Yellow'] \n",
        "l.remove('Red')\n",
        "l.remove('Pink')\n",
        "l.remove('Yellow')\n",
        "print(l)"
      ],
      "metadata": {
        "colab": {
          "base_uri": "https://localhost:8080/"
        },
        "id": "dbUtIJJ-ZrFp",
        "outputId": "a442a238-a2e5-4863-b52f-d9b56b1cd217"
      },
      "execution_count": null,
      "outputs": [
        {
          "output_type": "stream",
          "name": "stdout",
          "text": [
            "['Green', 'White', 'Black']\n"
          ]
        }
      ]
    },
    {
      "cell_type": "code",
      "source": [
        "#Program to get the difference between the two lists\n",
        "List1 = ['Red', 'Green', 'White', 'Black', 'Pink', 'Yellow'] \n",
        "List2 = ['Green', 'White', 'Black']\n",
        "diff= list(set(List1)-set(List2))\n",
        "print(diff)"
      ],
      "metadata": {
        "id": "RSvUCPouajVI",
        "colab": {
          "base_uri": "https://localhost:8080/"
        },
        "outputId": "141626c7-8b22-48d4-d73f-a156e9bf2fdd"
      },
      "execution_count": 2,
      "outputs": [
        {
          "output_type": "stream",
          "name": "stdout",
          "text": [
            "['Red', 'Pink', 'Yellow']\n"
          ]
        }
      ]
    },
    {
      "cell_type": "code",
      "source": [
        "#Program to find the second smallest number and second largest number in a list\n",
        "def find_len(list1):\n",
        "    length=len(list1)\n",
        "    list1.sort()\n",
        "    print(\"2nd largest number: \",list1[length-2])\n",
        "    print(\"2nd smallest number: \",list1[1])\n",
        "\n",
        "list2=list(input()) #input problem\n",
        "print(list2)\n",
        "numbers=find_len(list2)\n"
      ],
      "metadata": {
        "colab": {
          "base_uri": "https://localhost:8080/"
        },
        "id": "XFjqyywIvRIs",
        "outputId": "6f71350b-fd93-41b4-ffe4-e83a47526d5a"
      },
      "execution_count": 18,
      "outputs": [
        {
          "output_type": "stream",
          "name": "stdout",
          "text": [
            "25\n",
            "['2', '5']\n",
            "2nd largest number:  2\n",
            "2nd smallest number:  5\n"
          ]
        }
      ]
    },
    {
      "cell_type": "code",
      "source": [
        "#/Program to generate and print a dictionary that contains a number (between 1 and n) in the form (x, x*x).Sample Input: (n=5) : Expected Output : {1: 1, 2: 4, 3: 9, 4: 16, 5: 25}\n",
        "a={ 'dict': int(input())}\n",
        "for i in range(1, a['dict']+1):\n",
        "    print(i,':',i*i)"
      ],
      "metadata": {
        "colab": {
          "base_uri": "https://localhost:8080/"
        },
        "id": "Rec7UfxF201n",
        "outputId": "3698f932-92d5-4ba0-d3e8-24deea0581ac"
      },
      "execution_count": 20,
      "outputs": [
        {
          "output_type": "stream",
          "name": "stdout",
          "text": [
            "5\n",
            "1 : 1\n",
            "2 : 4\n",
            "3 : 9\n",
            "4 : 16\n",
            "5 : 25\n"
          ]
        }
      ]
    }
  ]
}