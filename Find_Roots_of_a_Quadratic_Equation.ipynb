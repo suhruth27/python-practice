{
  "nbformat": 4,
  "nbformat_minor": 0,
  "metadata": {
    "colab": {
      "name": "Find Roots of a Quadratic Equation.ipynb",
      "provenance": [],
      "authorship_tag": "ABX9TyNuP52iSDAD70EXaYKKyJdn",
      "include_colab_link": true
    },
    "kernelspec": {
      "name": "python3",
      "display_name": "Python 3"
    },
    "language_info": {
      "name": "python"
    }
  },
  "cells": [
    {
      "cell_type": "markdown",
      "metadata": {
        "id": "view-in-github",
        "colab_type": "text"
      },
      "source": [
        "<a href=\"https://colab.research.google.com/github/suhruth27/python-practice/blob/main/Find_Roots_of_a_Quadratic_Equation.ipynb\" target=\"_parent\"><img src=\"https://colab.research.google.com/assets/colab-badge.svg\" alt=\"Open In Colab\"/></a>"
      ]
    },
    {
      "cell_type": "code",
      "execution_count": 6,
      "metadata": {
        "colab": {
          "base_uri": "https://localhost:8080/"
        },
        "id": "nWYdG5OcPncR",
        "outputId": "dc65b035-102d-4470-884f-d6cd5b474a9e"
      },
      "outputs": [
        {
          "output_type": "stream",
          "name": "stdout",
          "text": [
            "1\n",
            "3\n",
            "1\n",
            " one root:  -0.3819660112501051\n",
            " second root:  -2.618033988749895\n"
          ]
        }
      ],
      "source": [
        "#Find Roots of a Quadratic Equation\n",
        "from math import sqrt\n",
        "a=int(input())\n",
        "b=int(input())\n",
        "c=int(input())\n",
        "r = b**2 - 4*a*c\n",
        "if r > 0:\n",
        "    x1 = (((-b) + sqrt(r))/(2*a))     \n",
        "    x2 = (((-b) - sqrt(r))/(2*a))\n",
        "    print(\" one root: \", x1)\n",
        "    print(\" second root: \", x2)\n",
        "elif r == 0:\n",
        "    x = (-b) / 2*a\n",
        "    print(\"There is one root: \", x)\n",
        "else:\n",
        "    print(\"no roots\")\n"
      ]
    }
  ]
}