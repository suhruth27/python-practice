{
 "cells": [
  {
   "cell_type": "code",
   "execution_count": null,
   "id": "59d3aa85",
   "metadata": {},
   "outputs": [],
   "source": [
    "# converting int to float, string, boolean, complex."
   ]
  },
  {
   "cell_type": "code",
   "execution_count": 3,
   "id": "af14c835",
   "metadata": {},
   "outputs": [
    {
     "name": "stdout",
     "output_type": "stream",
     "text": [
      "<class 'int'>\n",
      "10\n",
      "<class 'str'>\n",
      "10.0\n",
      "<class 'float'>\n",
      "True\n",
      "<class 'bool'>\n",
      "(10+0j)\n",
      "<class 'complex'>\n"
     ]
    }
   ],
   "source": [
    "a=10\n",
    "print(type(a))\n",
    "b=str(a)\n",
    "print(b)\n",
    "print(type(b))\n",
    "c=float(a)\n",
    "print(c)\n",
    "print(type(c))\n",
    "d=bool(a)\n",
    "print(d)\n",
    "print(type(d))\n",
    "e=complex(a)\n",
    "print(e)\n",
    "print(type(e))"
   ]
  },
  {
   "cell_type": "code",
   "execution_count": null,
   "id": "69ce752d",
   "metadata": {},
   "outputs": [],
   "source": [
    "# converting string to int, float, boolean, complex"
   ]
  },
  {
   "cell_type": "code",
   "execution_count": 4,
   "id": "d907c97b",
   "metadata": {},
   "outputs": [
    {
     "name": "stdout",
     "output_type": "stream",
     "text": [
      "<class 'str'>\n",
      "10\n",
      "<class 'int'>\n",
      "10.0\n",
      "<class 'float'>\n",
      "True\n",
      "<class 'bool'>\n",
      "(10+0j)\n",
      "<class 'complex'>\n"
     ]
    }
   ],
   "source": [
    "a='10'\n",
    "print(type(a))\n",
    "b=int(a)\n",
    "print(b)\n",
    "print(type(b))\n",
    "c=float(a)\n",
    "print(c)\n",
    "print(type(c))\n",
    "d=bool(a)\n",
    "print(d)\n",
    "print(type(d))\n",
    "e=complex(a)\n",
    "print(e)\n",
    "print(type(e))\n",
    "#cant convert alphabets into integer"
   ]
  },
  {
   "cell_type": "code",
   "execution_count": null,
   "id": "c053b457",
   "metadata": {},
   "outputs": [],
   "source": [
    "# converting float to int, string, boolean, complex"
   ]
  },
  {
   "cell_type": "code",
   "execution_count": 5,
   "id": "954aa876",
   "metadata": {},
   "outputs": [
    {
     "name": "stdout",
     "output_type": "stream",
     "text": [
      "<class 'float'>\n",
      "10.0\n",
      "<class 'str'>\n",
      "10\n",
      "<class 'int'>\n",
      "True\n",
      "<class 'bool'>\n",
      "(10+0j)\n",
      "<class 'complex'>\n"
     ]
    }
   ],
   "source": [
    "a=10.0\n",
    "print(type(a))\n",
    "b=str(a)\n",
    "print(b)\n",
    "print(type(b))\n",
    "c=int(a)\n",
    "print(c)\n",
    "print(type(c))\n",
    "d=bool(a)\n",
    "print(d)\n",
    "print(type(d))\n",
    "e=complex(a)\n",
    "print(e)\n",
    "print(type(e))"
   ]
  },
  {
   "cell_type": "code",
   "execution_count": null,
   "id": "0a284f5c",
   "metadata": {},
   "outputs": [],
   "source": [
    "# converting boolean to int, string, float, complex"
   ]
  },
  {
   "cell_type": "code",
   "execution_count": 6,
   "id": "4b8dd675",
   "metadata": {},
   "outputs": [
    {
     "name": "stdout",
     "output_type": "stream",
     "text": [
      "<class 'bool'>\n",
      "True\n",
      "<class 'str'>\n",
      "1\n",
      "<class 'int'>\n",
      "1.0\n",
      "<class 'float'>\n",
      "(1+0j)\n",
      "<class 'complex'>\n"
     ]
    }
   ],
   "source": [
    "a= True\n",
    "print(type(a))\n",
    "b=str(a)\n",
    "print(b)\n",
    "print(type(b))\n",
    "c=int(a)\n",
    "print(c)\n",
    "print(type(c))\n",
    "d=float(a)\n",
    "print(d)\n",
    "print(type(d))\n",
    "e=complex(a)\n",
    "print(e)\n",
    "print(type(e))"
   ]
  },
  {
   "cell_type": "code",
   "execution_count": null,
   "id": "ce26fbea",
   "metadata": {},
   "outputs": [],
   "source": []
  }
 ],
 "metadata": {
  "kernelspec": {
   "display_name": "Python 3 (ipykernel)",
   "language": "python",
   "name": "python3"
  },
  "language_info": {
   "codemirror_mode": {
    "name": "ipython",
    "version": 3
   },
   "file_extension": ".py",
   "mimetype": "text/x-python",
   "name": "python",
   "nbconvert_exporter": "python",
   "pygments_lexer": "ipython3",
   "version": "3.9.7"
  }
 },
 "nbformat": 4,
 "nbformat_minor": 5
}
