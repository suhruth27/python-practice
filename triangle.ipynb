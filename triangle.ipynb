{
  "nbformat": 4,
  "nbformat_minor": 0,
  "metadata": {
    "colab": {
      "name": "triangle.ipynb",
      "provenance": [],
      "authorship_tag": "ABX9TyPoa3oFjZUAFFnQA37Qo5Xc",
      "include_colab_link": true
    },
    "kernelspec": {
      "name": "python3",
      "display_name": "Python 3"
    },
    "language_info": {
      "name": "python"
    }
  },
  "cells": [
    {
      "cell_type": "markdown",
      "metadata": {
        "id": "view-in-github",
        "colab_type": "text"
      },
      "source": [
        "<a href=\"https://colab.research.google.com/github/suhruth27/python-practice/blob/main/triangle.ipynb\" target=\"_parent\"><img src=\"https://colab.research.google.com/assets/colab-badge.svg\" alt=\"Open In Colab\"/></a>"
      ]
    },
    {
      "cell_type": "code",
      "execution_count": 6,
      "metadata": {
        "colab": {
          "base_uri": "https://localhost:8080/"
        },
        "id": "VLxWyNprY9lw",
        "outputId": "42d04f44-7cff-4d93-b996-c468618c1d94"
      },
      "outputs": [
        {
          "output_type": "stream",
          "name": "stdout",
          "text": [
            "enter side11\n",
            "enter side22\n",
            "enter side31\n",
            "it is isoceles triangle\n"
          ]
        }
      ],
      "source": [
        "#type of triangle\n",
        "s1=int(input(\"enter side1\"))\n",
        "s2=int(input(\"enter side2\"))\n",
        "s3=int(input(\"enter side3\"))\n",
        "if s1==s2==s3:\n",
        "    print(\"it is equilateral triangle\")\n",
        "elif s1==s2 and s1!=s3 or s1==s3 and s1!=s2 or s2==s3 and s2!=s1:\n",
        "    print(\"it is isoceles triangle\")\n",
        "else:\n",
        "    print(\"it is scalene triangle\")"
      ]
    }
  ]
}