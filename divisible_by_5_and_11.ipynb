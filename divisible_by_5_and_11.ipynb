{
  "nbformat": 4,
  "nbformat_minor": 0,
  "metadata": {
    "colab": {
      "name": "divisible by 5 and 11.ipynb",
      "provenance": [],
      "authorship_tag": "ABX9TyOQy0ugb1/5LmNHie91578o",
      "include_colab_link": true
    },
    "kernelspec": {
      "name": "python3",
      "display_name": "Python 3"
    },
    "language_info": {
      "name": "python"
    }
  },
  "cells": [
    {
      "cell_type": "markdown",
      "metadata": {
        "id": "view-in-github",
        "colab_type": "text"
      },
      "source": [
        "<a href=\"https://colab.research.google.com/github/suhruth27/python-practice/blob/main/divisible_by_5_and_11.ipynb\" target=\"_parent\"><img src=\"https://colab.research.google.com/assets/colab-badge.svg\" alt=\"Open In Colab\"/></a>"
      ]
    },
    {
      "cell_type": "code",
      "execution_count": 3,
      "metadata": {
        "colab": {
          "base_uri": "https://localhost:8080/"
        },
        "id": "noiUcoY9OlrQ",
        "outputId": "71c5ff85-cfe3-4d96-e09a-4a32e897d48d"
      },
      "outputs": [
        {
          "output_type": "stream",
          "name": "stdout",
          "text": [
            "20\n",
            "it is not divisible by 5 and 11\n"
          ]
        }
      ],
      "source": [
        "#divisible by 5 and 11\n",
        "a=int(input())\n",
        "if a%5==0 and a%11==0:\n",
        "    print(\"it is divisible by 5 and 11\")\n",
        "else:\n",
        "    print(\"it is not divisible by 5 and 11\")"
      ]
    }
  ]
}