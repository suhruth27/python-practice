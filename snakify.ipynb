{
  "nbformat": 4,
  "nbformat_minor": 0,
  "metadata": {
    "colab": {
      "name": "snakify.ipynb",
      "provenance": [],
      "collapsed_sections": [],
      "authorship_tag": "ABX9TyNDP0znE3jHslBkmxhvObEQ",
      "include_colab_link": true
    },
    "kernelspec": {
      "name": "python3",
      "display_name": "Python 3"
    },
    "language_info": {
      "name": "python"
    }
  },
  "cells": [
    {
      "cell_type": "markdown",
      "metadata": {
        "id": "view-in-github",
        "colab_type": "text"
      },
      "source": [
        "<a href=\"https://colab.research.google.com/github/suhruth27/python-practice/blob/main/snakify.ipynb\" target=\"_parent\"><img src=\"https://colab.research.google.com/assets/colab-badge.svg\" alt=\"Open In Colab\"/></a>"
      ]
    },
    {
      "cell_type": "code",
      "execution_count": 11,
      "metadata": {
        "colab": {
          "base_uri": "https://localhost:8080/"
        },
        "id": "0AzHQzxEfcMV",
        "outputId": "e0bf7748-92f9-425b-e9b7-7625b6088996"
      },
      "outputs": [
        {
          "output_type": "stream",
          "name": "stdout",
          "text": [
            "Abrakadabra\n",
            "r\n",
            "r\n",
            "Abrak\n",
            "Abrakadab\n",
            "Arkdba\n",
            "baaar\n",
            "arbadakarbA\n",
            "abdkrA\n",
            "11\n"
          ]
        }
      ],
      "source": [
        "#Slices\n",
        "s = input()\n",
        "print(s[2])\n",
        "print(s[-2])\n",
        "print(s[:5])\n",
        "print(s[:-2])\n",
        "print(s[::2])\n",
        "print(s[1::2])\n",
        "print(s[::-1])\n",
        "print(s[::-2])\n",
        "print(len(s))"
      ]
    },
    {
      "cell_type": "code",
      "source": [
        "#The number of words\n",
        "print(input().count(' ') + 1)"
      ],
      "metadata": {
        "colab": {
          "base_uri": "https://localhost:8080/"
        },
        "id": "hrnKh33bm0C0",
        "outputId": "2b7c8338-3546-4a1f-afc4-f9d436d5a402"
      },
      "execution_count": 14,
      "outputs": [
        {
          "output_type": "stream",
          "name": "stdout",
          "text": [
            "hello world\n",
            "2\n"
          ]
        }
      ]
    },
    {
      "cell_type": "code",
      "source": [
        "#The two halves\n",
        "s = input()\n",
        "l = int(len(s)/2)\n",
        "print(s[-l:]+s[:-l])"
      ],
      "metadata": {
        "id": "q-f5__Fqnbac"
      },
      "execution_count": null,
      "outputs": []
    },
    {
      "cell_type": "code",
      "source": [
        "#To swap the two words\n",
        "s = input()\n",
        "n = s.find(' ')\n",
        "print(s[n:], s[:n])"
      ],
      "metadata": {
        "id": "twicpu_OoJxV"
      },
      "execution_count": null,
      "outputs": []
    },
    {
      "cell_type": "code",
      "source": [
        "#The first and last occurrence\n",
        "s = input()\n",
        "с = s.count('f')\n",
        "if с == 1:\n",
        "    print(s.find('f'))\n",
        "if с > 1:\n",
        "    print(s.find('f'),s.rfind('f'))"
      ],
      "metadata": {
        "colab": {
          "base_uri": "https://localhost:8080/"
        },
        "id": "U0bGr9HQoSjD",
        "outputId": "0fec4d50-cbb0-4ae4-b620-566c97373cb8"
      },
      "execution_count": 18,
      "outputs": [
        {
          "output_type": "stream",
          "name": "stdout",
          "text": [
            "office\n",
            "1 2\n"
          ]
        }
      ]
    },
    {
      "cell_type": "code",
      "source": [
        "#Remove the fragment\n",
        "s = input()\n",
        "print(s[:s.find('h')] + s[s.rfind('h')+1:])"
      ],
      "metadata": {
        "id": "93CEGSFUo0fV"
      },
      "execution_count": null,
      "outputs": []
    },
    {
      "cell_type": "code",
      "source": [
        "#The second occurrence\n",
        "s = input()\n",
        "с = s.count('f')\n",
        "if с == 0:\n",
        "    print(-2)\n",
        "if с == 1:\n",
        "    print(-1)\n",
        "if с > 1:\n",
        "    print(s.find('f', s.find('f') + 1))"
      ],
      "metadata": {
        "id": "I1jEeAjapN5E"
      },
      "execution_count": null,
      "outputs": []
    },
    {
      "cell_type": "code",
      "source": [
        "#Reverse the fragment\n",
        "s = input()\n",
        "i = s[s.find('h'):(s.rfind('h'))]\n",
        "print(s[:s.find('h') + 1] + i[::-1] + s[s.rfind('h')+1:])"
      ],
      "metadata": {
        "id": "JhHbR2ljpXwr"
      },
      "execution_count": null,
      "outputs": []
    },
    {
      "cell_type": "code",
      "source": [
        "#Replace the substring\n",
        "print(input().replace('1', 'one'))"
      ],
      "metadata": {
        "id": "_Yj4iT9Bpgqk"
      },
      "execution_count": null,
      "outputs": []
    },
    {
      "cell_type": "code",
      "source": [
        "#Delete a character\n",
        "print(input().replace('@', ''))"
      ],
      "metadata": {
        "id": "Xhg5U-ThpsQ1"
      },
      "execution_count": null,
      "outputs": []
    },
    {
      "cell_type": "code",
      "source": [
        "#Replace within the fragment\n",
        "s = input()\n",
        "i = s[s.find('h')+1:(s.rfind('h'))]\n",
        "print(s[:s.find('h')+1] + i.replace('h', 'H') + s[s.rfind('h'):])"
      ],
      "metadata": {
        "id": "7SznvF_bp03M"
      },
      "execution_count": null,
      "outputs": []
    },
    {
      "cell_type": "code",
      "source": [
        "#Delete every third character\n",
        "s = input()\n",
        "result = ''\n",
        "for i in range(1,len(s),3):\n",
        "    result += s[i:i+2]\n",
        "print(result)\n",
        "\n",
        "#solution from developers\n",
        "#s = input()\n",
        "#t = ''\n",
        "#for i in range(len(s)):\n",
        "#    if i % 3 != 0:\n",
        "#        t = t + s[i]\n",
        "#print(t)"
      ],
      "metadata": {
        "id": "6oz5iqKfp8gT"
      },
      "execution_count": null,
      "outputs": []
    }
  ]
}