{
  "nbformat": 4,
  "nbformat_minor": 0,
  "metadata": {
    "colab": {
      "name": "snakify.ipynb",
      "provenance": [],
      "collapsed_sections": [],
      "authorship_tag": "ABX9TyPvsV/yvh6l5J290Kmx2ND5",
      "include_colab_link": true
    },
    "kernelspec": {
      "name": "python3",
      "display_name": "Python 3"
    },
    "language_info": {
      "name": "python"
    }
  },
  "cells": [
    {
      "cell_type": "markdown",
      "metadata": {
        "id": "view-in-github",
        "colab_type": "text"
      },
      "source": [
        "<a href=\"https://colab.research.google.com/github/suhruth27/python-practice/blob/main/snakify.ipynb\" target=\"_parent\"><img src=\"https://colab.research.google.com/assets/colab-badge.svg\" alt=\"Open In Colab\"/></a>"
      ]
    },
    {
      "cell_type": "code",
      "execution_count": null,
      "metadata": {
        "id": "wn7QNcSfoZ93"
      },
      "outputs": [],
      "source": [
        "#Slices\n",
        "s = input()\n",
        "print(s[2])\n",
        "print(s[-2])\n",
        "print(s[:5])\n",
        "print(s[:-2])\n",
        "print(s[::2])\n",
        "print(s[1::2])\n",
        "print(s[::-1])\n",
        "print(s[::-2])\n",
        "print(len(s))\n",
        "Abrakadabra\n",
        "r\n",
        "r\n",
        "Abrak\n",
        "Abrakadab\n",
        "Arkdba\n",
        "baaar\n",
        "arbadakarbA\n",
        "abdkrA\n",
        "11"
      ]
    },
    {
      "cell_type": "code",
      "source": [
        "#The number of words\n",
        "print(input().count(' ') + 1)\n",
        "hello world\n",
        "2\n"
      ],
      "metadata": {
        "id": "3x7fA86mok7H"
      },
      "execution_count": null,
      "outputs": []
    },
    {
      "cell_type": "code",
      "source": [
        "#The two halves\n",
        "s = input()\n",
        "l = int(len(s)/2)\n",
        "print(s[-l:]+s[:-l])\n"
      ],
      "metadata": {
        "id": "N2zVShxRow1r"
      },
      "execution_count": null,
      "outputs": []
    },
    {
      "cell_type": "code",
      "source": [
        "#To swap the two words\n",
        "s = input()\n",
        "n = s.find(' ')\n",
        "print(s[n:], s[:n])\n"
      ],
      "metadata": {
        "id": "NeAZ2pXeo0yQ"
      },
      "execution_count": null,
      "outputs": []
    },
    {
      "cell_type": "code",
      "source": [
        "#The first and last occurrence\n",
        "s = input()\n",
        "с = s.count('f')\n",
        "if с == 1:\n",
        "    print(s.find('f'))\n",
        "if с > 1:\n",
        "    print(s.find('f'),s.rfind('f'))\n",
        "office\n",
        "1 2\n"
      ],
      "metadata": {
        "id": "VGcFmc3Go6Ts"
      },
      "execution_count": null,
      "outputs": []
    },
    {
      "cell_type": "code",
      "source": [
        "#Remove the fragment\n",
        "s = input()\n",
        "print(s[:s.find('h')] + s[s.rfind('h')+1:])\n"
      ],
      "metadata": {
        "id": "Qa9bxJB5o9ke"
      },
      "execution_count": null,
      "outputs": []
    },
    {
      "cell_type": "code",
      "source": [
        "#The second occurrence\n",
        "s = input()\n",
        "с = s.count('f')\n",
        "if с == 0:\n",
        "    print(-2)\n",
        "if с == 1:\n",
        "    print(-1)\n",
        "if с > 1:\n",
        "    print(s.find('f', s.find('f') + 1))\n"
      ],
      "metadata": {
        "id": "u28-MgvApAg5"
      },
      "execution_count": null,
      "outputs": []
    },
    {
      "cell_type": "code",
      "source": [
        "#Reverse the fragment\n",
        "s = input()\n",
        "i = s[s.find('h'):(s.rfind('h'))]\n",
        "print(s[:s.find('h') + 1] + i[::-1] + s[s.rfind('h')+1:])\n"
      ],
      "metadata": {
        "id": "SIOrB7plpEdq"
      },
      "execution_count": null,
      "outputs": []
    },
    {
      "cell_type": "code",
      "source": [
        "#Replace the substring\n",
        "print(input().replace('1', 'one'))\n"
      ],
      "metadata": {
        "id": "lNtPNMcbpHCA"
      },
      "execution_count": null,
      "outputs": []
    },
    {
      "cell_type": "code",
      "source": [
        "#Delete a character\n",
        "print(input().replace('@', ''))\n"
      ],
      "metadata": {
        "id": "DlVjGQs5pKFu"
      },
      "execution_count": null,
      "outputs": []
    },
    {
      "cell_type": "code",
      "source": [
        "#Replace within the fragment\n",
        "s = input()\n",
        "i = s[s.find('h')+1:(s.rfind('h'))]\n",
        "print(s[:s.find('h')+1] + i.replace('h', 'H') + s[s.rfind('h'):])\n"
      ],
      "metadata": {
        "id": "Ufs7LD3tpMLt"
      },
      "execution_count": null,
      "outputs": []
    },
    {
      "cell_type": "code",
      "source": [
        "#Delete every third character\n",
        "s = input()\n",
        "result = ''\n",
        "for i in range(1,len(s),3):\n",
        "    result += s[i:i+2]\n",
        "print(result)\n",
        "\n",
        "#solution from developers\n",
        "#s = input()\n",
        "#t = ''\n",
        "#for i in range(len(s)):\n",
        "#    if i % 3 != 0:\n",
        "#        t = t + s[i]\n",
        "#print(t)"
      ],
      "metadata": {
        "id": "1kKb8jVKpOtG"
      },
      "execution_count": null,
      "outputs": []
    }
  ]
}