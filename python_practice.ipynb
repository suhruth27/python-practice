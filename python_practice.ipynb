{
  "nbformat": 4,
  "nbformat_minor": 0,
  "metadata": {
    "colab": {
      "name": "python practice.ipynb",
      "provenance": [],
      "authorship_tag": "ABX9TyP9Rt78dk7x/OfIMYWbFXn2",
      "include_colab_link": true
    },
    "kernelspec": {
      "name": "python3",
      "display_name": "Python 3"
    },
    "language_info": {
      "name": "python"
    }
  },
  "cells": [
    {
      "cell_type": "markdown",
      "metadata": {
        "id": "view-in-github",
        "colab_type": "text"
      },
      "source": [
        "<a href=\"https://colab.research.google.com/github/suhruth27/python-practice/blob/main/python_practice.ipynb\" target=\"_parent\"><img src=\"https://colab.research.google.com/assets/colab-badge.svg\" alt=\"Open In Colab\"/></a>"
      ]
    },
    {
      "cell_type": "code",
      "execution_count": null,
      "metadata": {
        "colab": {
          "base_uri": "https://localhost:8080/"
        },
        "id": "XHAY89NAIVxe",
        "outputId": "4d8d603f-2675-423e-8488-0f81b0465e2d"
      },
      "outputs": [
        {
          "output_type": "stream",
          "name": "stdout",
          "text": [
            "20.0\n",
            "<class 'float'>\n"
          ]
        }
      ],
      "source": [
        "a=20\n",
        "b=20\n",
        "avg=(a+b)/2\n",
        "print(avg)\n",
        "print(type(avg))"
      ]
    }
  ]
}