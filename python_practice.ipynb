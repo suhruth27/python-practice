{
  "nbformat": 4,
  "nbformat_minor": 0,
  "metadata": {
    "colab": {
      "name": "python practice.ipynb",
      "provenance": [],
      "collapsed_sections": [],
      "authorship_tag": "ABX9TyPz8nTVm9p/9vBqot7nzW+f",
      "include_colab_link": true
    },
    "kernelspec": {
      "name": "python3",
      "display_name": "Python 3"
    },
    "language_info": {
      "name": "python"
    }
  },
  "cells": [
    {
      "cell_type": "markdown",
      "metadata": {
        "id": "view-in-github",
        "colab_type": "text"
      },
      "source": [
        "<a href=\"https://colab.research.google.com/github/suhruth27/python-practice/blob/main/python_practice.ipynb\" target=\"_parent\"><img src=\"https://colab.research.google.com/assets/colab-badge.svg\" alt=\"Open In Colab\"/></a>"
      ]
    },
    {
      "cell_type": "code",
      "execution_count": null,
      "metadata": {
        "colab": {
          "base_uri": "https://localhost:8080/"
        },
        "id": "XHAY89NAIVxe",
        "outputId": "4d8d603f-2675-423e-8488-0f81b0465e2d"
      },
      "outputs": [
        {
          "output_type": "stream",
          "name": "stdout",
          "text": [
            "20.0\n",
            "<class 'float'>\n"
          ]
        }
      ],
      "source": [
        "a=20\n",
        "b=20\n",
        "avg=(a+b)/2\n",
        "print(avg)\n",
        "print(type(avg))"
      ]
    },
    {
      "cell_type": "code",
      "source": [
        "Code cell <undefined>\n",
        "#%% [code]\n",
        "# converting int to float, string, boolean, complex.\n",
        "\n",
        "Code cell <undefined>\n",
        "#%% [code]\n",
        "a=10\n",
        "print(type(a))\n",
        "b=str(a)\n",
        "print(b)\n",
        "print(type(b))\n",
        "c=float(a)\n",
        "print(c)\n",
        "print(type(c))\n",
        "d=bool(a)\n",
        "print(d)\n",
        "print(type(d))\n",
        "e=complex(a)\n",
        "print(e)\n",
        "print(type(e))\n",
        "Execution output\n",
        "0KB\n",
        "\tStream\n",
        "\t\t<class 'int'>\n",
        "\t\t10\n",
        "\t\t<class 'str'>\n",
        "\t\t10.0\n",
        "\t\t<class 'float'>\n",
        "\t\tTrue\n",
        "\t\t<class 'bool'>\n",
        "\t\t(10+0j)\n",
        "\t\t<class 'complex'>\n",
        "\n",
        "Code cell <undefined>\n",
        "#%% [code]\n",
        "# converting string to int, float, boolean, complex\n",
        "\n",
        "Code cell <undefined>\n",
        "#%% [code]\n",
        "a='10'\n",
        "print(type(a))\n",
        "b=int(a)\n",
        "print(b)\n",
        "print(type(b))\n",
        "c=float(a)\n",
        "print(c)\n",
        "print(type(c))\n",
        "d=bool(a)\n",
        "print(d)\n",
        "print(type(d))\n",
        "e=complex(a)\n",
        "print(e)\n",
        "print(type(e))\n",
        "#cant convert alphabets into integer\n",
        "Execution output\n",
        "0KB\n",
        "\tStream\n",
        "\t\t<class 'str'>\n",
        "\t\t10\n",
        "\t\t<class 'int'>\n",
        "\t\t10.0\n",
        "\t\t<class 'float'>\n",
        "\t\tTrue\n",
        "\t\t<class 'bool'>\n",
        "\t\t(10+0j)\n",
        "\t\t<class 'complex'>\n",
        "\n",
        "Code cell <undefined>\n",
        "#%% [code]\n",
        "# converting float to int, string, boolean, complex\n",
        "\n",
        "Code cell <undefined>\n",
        "#%% [code]\n",
        "a=10.0\n",
        "print(type(a))\n",
        "b=str(a)\n",
        "print(b)\n",
        "print(type(b))\n",
        "c=int(a)\n",
        "print(c)\n",
        "print(type(c))\n",
        "d=bool(a)\n",
        "print(d)\n",
        "print(type(d))\n",
        "e=complex(a)\n",
        "print(e)\n",
        "print(type(e))\n",
        "Execution output\n",
        "0KB\n",
        "\tStream\n",
        "\t\t<class 'float'>\n",
        "\t\t10.0\n",
        "\t\t<class 'str'>\n",
        "\t\t10\n",
        "\t\t<class 'int'>\n",
        "\t\tTrue\n",
        "\t\t<class 'bool'>\n",
        "\t\t(10+0j)\n",
        "\t\t<class 'complex'>\n",
        "\n",
        "Code cell <undefined>\n",
        "#%% [code]\n",
        "# converting boolean to int, string, float, complex\n",
        "\n",
        "Code cell <undefined>\n",
        "#%% [code]\n",
        "a= True\n",
        "print(type(a))\n",
        "b=str(a)\n",
        "print(b)\n",
        "print(type(b))\n",
        "c=int(a)\n",
        "print(c)\n",
        "print(type(c))\n",
        "d=float(a)\n",
        "print(d)\n",
        "print(type(d))\n",
        "e=complex(a)\n",
        "print(e)\n",
        "print(type(e))\n",
        "Execution output\n",
        "0KB\n",
        "\tStream\n",
        "\t\t<class 'bool'>\n",
        "\t\tTrue\n",
        "\t\t<class 'str'>\n",
        "\t\t1\n",
        "\t\t<class 'int'>\n",
        "\t\t1.0\n",
        "\t\t<class 'float'>\n",
        "\t\t(1+0j)\n",
        "\t\t<class 'complex'>\n",
        "\n",
        "Code cell <undefined>\n",
        "#%% [code]\n",
        "\n",
        "\n"
      ],
      "metadata": {
        "id": "BWr5D-hPuOqs"
      },
      "execution_count": null,
      "outputs": []
    },
    {
      "cell_type": "code",
      "source": [
        "#find the person whether eligible to voting or no"
      ],
      "metadata": {
        "id": "MmPrkB2JuSEi"
      },
      "execution_count": 1,
      "outputs": []
    },
    {
      "cell_type": "code",
      "source": [
        "a=int(input())\n",
        "if a>=18:\n",
        "    print(\"eligible\")\n",
        "else:\n",
        "    print(\"not eligible\")"
      ],
      "metadata": {
        "colab": {
          "base_uri": "https://localhost:8080/"
        },
        "id": "LV_DWfkSPw89",
        "outputId": "deaec41e-8dbf-4ec1-ae19-77b1c1b44b65"
      },
      "execution_count": 3,
      "outputs": [
        {
          "output_type": "stream",
          "name": "stdout",
          "text": [
            "1\n",
            "not eligible\n"
          ]
        }
      ]
    },
    {
      "cell_type": "markdown",
      "source": [
        ""
      ],
      "metadata": {
        "id": "Yn94Wai1uSNK"
      }
    }
  ]
}