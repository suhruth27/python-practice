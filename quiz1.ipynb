{
  "nbformat": 4,
  "nbformat_minor": 0,
  "metadata": {
    "colab": {
      "name": "quiz1.ipynb",
      "provenance": [],
      "authorship_tag": "ABX9TyOoted4h6WTE58AL/Z4KIeH",
      "include_colab_link": true
    },
    "kernelspec": {
      "name": "python3",
      "display_name": "Python 3"
    },
    "language_info": {
      "name": "python"
    }
  },
  "cells": [
    {
      "cell_type": "markdown",
      "metadata": {
        "id": "view-in-github",
        "colab_type": "text"
      },
      "source": [
        "<a href=\"https://colab.research.google.com/github/suhruth27/python-practice/blob/main/quiz1.ipynb\" target=\"_parent\"><img src=\"https://colab.research.google.com/assets/colab-badge.svg\" alt=\"Open In Colab\"/></a>"
      ]
    },
    {
      "cell_type": "code",
      "execution_count": 1,
      "metadata": {
        "colab": {
          "base_uri": "https://localhost:8080/"
        },
        "id": "SHcdmgCKhJrw",
        "outputId": "7d0b8628-ecca-41fc-a4d7-cc60f3862a45"
      },
      "outputs": [
        {
          "output_type": "stream",
          "name": "stdout",
          "text": [
            "Rainbow = ['Red', 'Orange', 'Yellow', 'Black', 'Green']\n"
          ]
        }
      ],
      "source": [
        "#Add Black color to the given list in the 4th place.\n",
        "#Rainbow = ['Red', 'Orange', 'Yellow', 'Green'] \n",
        "Rainbow=['Red','Orange','Yellow','Green']\n",
        "Rainbow.insert(3,'Black')\n",
        "print(\"Rainbow =\",Rainbow)"
      ]
    },
    {
      "cell_type": "code",
      "source": [
        "#Find out the Largest of three numbers from the give input\n",
        "a=5\n",
        "b=3\n",
        "c=2\n",
        "if a>b and a>c:\n",
        "    print(a)\n",
        "elif b>a and b>c:\n",
        "    print(b)\n",
        "else:\n",
        "    print(c)"
      ],
      "metadata": {
        "id": "n9KDxecFiYrh"
      },
      "execution_count": null,
      "outputs": []
    },
    {
      "cell_type": "code",
      "source": [
        "#Find out the square root of the number\n",
        "a=int(input())\n",
        "i=0\n",
        "if a>=0:\n",
        "    i=i+(a**0.5)\n",
        "print(i)"
      ],
      "metadata": {
        "id": "jBLOgX6fifcx"
      },
      "execution_count": null,
      "outputs": []
    },
    {
      "cell_type": "code",
      "source": [
        "#Write a program of swapping of two numbers \n",
        "a=2\n",
        "b=3\n",
        "c=c+a\n",
        "c = a\n",
        "a = b\n",
        "b = c\n",
        "print(a,b)\n"
      ],
      "metadata": {
        "colab": {
          "base_uri": "https://localhost:8080/"
        },
        "id": "8iNDhIqsipF5",
        "outputId": "a075ae0b-aa80-4d9c-cfde-57f00e6aa37e"
      },
      "execution_count": 8,
      "outputs": [
        {
          "output_type": "stream",
          "name": "stdout",
          "text": [
            "3 2\n"
          ]
        }
      ]
    }
  ]
}