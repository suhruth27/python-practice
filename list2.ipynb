{
  "nbformat": 4,
  "nbformat_minor": 0,
  "metadata": {
    "colab": {
      "name": "list.ipynb",
      "provenance": [],
      "authorship_tag": "ABX9TyPl2Q1/fY3z74Imdq592NiY",
      "include_colab_link": true
    },
    "kernelspec": {
      "name": "python3",
      "display_name": "Python 3"
    },
    "language_info": {
      "name": "python"
    }
  },
  "cells": [
    {
      "cell_type": "markdown",
      "metadata": {
        "id": "view-in-github",
        "colab_type": "text"
      },
      "source": [
        "<a href=\"https://colab.research.google.com/github/suhruth27/python-practice/blob/main/list2.ipynb\" target=\"_parent\"><img src=\"https://colab.research.google.com/assets/colab-badge.svg\" alt=\"Open In Colab\"/></a>"
      ]
    },
    {
      "cell_type": "code",
      "execution_count": 6,
      "metadata": {
        "colab": {
          "base_uri": "https://localhost:8080/"
        },
        "id": "GyaATJtW4a4G",
        "outputId": "f8fd2ec5-15dc-4d56-fe17-27432d33643c"
      },
      "outputs": [
        {
          "output_type": "stream",
          "name": "stdout",
          "text": [
            "apple\n",
            "['apple', 'mango']\n",
            "orange\n",
            "['apple', 'mango', 'banana', 'kiwi']\n"
          ]
        }
      ],
      "source": [
        "#list\n",
        "fruit=['apple', 'mango', 'banana', 'kiwi', 'orange']\n",
        "print(fruit[0])\n",
        "print(fruit[0:2])\n",
        "print(fruit[-1])\n",
        "print(fruit[:-1])"
      ]
    }
  ]
}